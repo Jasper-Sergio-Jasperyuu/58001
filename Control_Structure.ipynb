{
  "nbformat": 4,
  "nbformat_minor": 0,
  "metadata": {
    "colab": {
      "provenance": [],
      "authorship_tag": "ABX9TyNe4HzmTsx3EGVorwnNARPr",
      "include_colab_link": true
    },
    "kernelspec": {
      "name": "python3",
      "display_name": "Python 3"
    },
    "language_info": {
      "name": "python"
    }
  },
  "cells": [
    {
      "cell_type": "markdown",
      "metadata": {
        "id": "view-in-github",
        "colab_type": "text"
      },
      "source": [
        "<a href=\"https://colab.research.google.com/github/Jasper-Sergio-Jasperyuu/OOP-58001/blob/main/Control_Structure.ipynb\" target=\"_parent\"><img src=\"https://colab.research.google.com/assets/colab-badge.svg\" alt=\"Open In Colab\"/></a>"
      ]
    },
    {
      "cell_type": "markdown",
      "source": [
        "Conditional Statement"
      ],
      "metadata": {
        "id": "-MRDNINND5Ay"
      }
    },
    {
      "cell_type": "code",
      "execution_count": 4,
      "metadata": {
        "colab": {
          "base_uri": "https://localhost:8080/"
        },
        "id": "6qwrczakDq1c",
        "outputId": "9605bd27-b97b-4c0e-ab3e-fab5e7c94508"
      },
      "outputs": [
        {
          "output_type": "stream",
          "name": "stdout",
          "text": [
            "A is lesser than b\n"
          ]
        }
      ],
      "source": [
        "#if Statement\n",
        "a, b = 33, 30\n",
        "if a>b:\n",
        "  print (\"A is greater than b\")\n"
      ]
    },
    {
      "cell_type": "code",
      "source": [
        "print (\"Please input two numbers: \")\n",
        "x = int(input())\n",
        "y = int(input())\n",
        "if x>y:\n",
        "  print(x, \"is greater than\", y)\n",
        "else:\n",
        "  print(y, \"is greater than\", x)"
      ],
      "metadata": {
        "colab": {
          "base_uri": "https://localhost:8080/"
        },
        "id": "_NHaUTaSGDGH",
        "outputId": "d0d4134f-9069-481d-e5d2-97abf47943d1"
      },
      "execution_count": 12,
      "outputs": [
        {
          "output_type": "stream",
          "name": "stdout",
          "text": [
            "Please input two numbers: \n",
            "23\n",
            "41\n",
            "41 is greater than 23\n"
          ]
        }
      ]
    },
    {
      "cell_type": "code",
      "source": [
        "#Elif Statement\n",
        "x = 2\n",
        "y = 2\n",
        "if x > y:\n",
        "  print(x, \"is greater than\", y)\n",
        "elif x == y:\n",
        "  print(\"Both numbers are equal\")\n",
        "\n"
      ],
      "metadata": {
        "colab": {
          "base_uri": "https://localhost:8080/"
        },
        "id": "gQHCxrs4Hnca",
        "outputId": "cea12d8e-e7a0-4c48-d012-661f82ba029a"
      },
      "execution_count": 17,
      "outputs": [
        {
          "output_type": "stream",
          "name": "stdout",
          "text": [
            "Both numbers are equal\n"
          ]
        }
      ]
    },
    {
      "cell_type": "code",
      "source": [
        "#Else Statement\n",
        "x = 3\n",
        "y = 45\n",
        "if x > y:\n",
        "  print(x, \"is greater than\", y)\n",
        "elif x == y:\n",
        "  print(\"Both numbers are equal\")\n",
        "else:\n",
        "  print(y, \"is greater than\", x)"
      ],
      "metadata": {
        "colab": {
          "base_uri": "https://localhost:8080/"
        },
        "id": "9Yhbo26wIDJK",
        "outputId": "9e326eb3-78e3-41c1-bccb-c73f1856a86f"
      },
      "execution_count": 18,
      "outputs": [
        {
          "output_type": "stream",
          "name": "stdout",
          "text": [
            "Both numbers are equal\n"
          ]
        }
      ]
    },
    {
      "cell_type": "code",
      "source": [
        "#Nested if else statement\n",
        "x = 41\n",
        "if x>10:\n",
        "  print(\"x is greater than 10\")\n",
        "  if x>20:\n",
        "    print(\"and also is greater than 20\")\n",
        "    if x>30:\n",
        "      print(\"and also is greater than 30\")\n",
        "      if x>40:\n",
        "        print(\"and also is greater than 40\")\n",
        "        if x>50:\n",
        "          print(\"and also is greater than 50\")\n",
        "        else:\n",
        "          print(\"yet lesser than 50\")\n",
        "      else:\n",
        "        print(\"yet lesser than 40\")\n",
        "    else:\n",
        "      print(\"yet lesser than 30\")\n",
        "  else:\n",
        "      print(\"yet lesser than 20\")\n",
        "else:\n",
        "      print(\"x is less than 10\")\n"
      ],
      "metadata": {
        "colab": {
          "base_uri": "https://localhost:8080/"
        },
        "id": "fTbtLIYgI-gJ",
        "outputId": "0c61e0c3-ed83-47dd-f565-c9d3fb1e29e2"
      },
      "execution_count": 32,
      "outputs": [
        {
          "output_type": "stream",
          "name": "stdout",
          "text": [
            "x is greater than 10\n",
            "and also is greater than 20\n",
            "and also is greater than 30\n",
            "and also is greater than 40\n",
            "yet lesser than 50\n"
          ]
        }
      ]
    },
    {
      "cell_type": "markdown",
      "source": [
        "Example 1"
      ],
      "metadata": {
        "id": "fH1pjua2MM58"
      }
    },
    {
      "cell_type": "code",
      "source": [
        "#voter qualification\n",
        "print(\"Please input your age: \")\n",
        "x = int(input())\n",
        "\n",
        "if x>=18:\n",
        "  print(\"You are qualified to vote!\")\n",
        "else:\n",
        "  print(\"Your age does not meet the qualifications to vote\")\n"
      ],
      "metadata": {
        "colab": {
          "base_uri": "https://localhost:8080/"
        },
        "id": "Nyrmg_ehML51",
        "outputId": "2b980a0a-f804-4bb2-8574-2b515efa1a92"
      },
      "execution_count": 41,
      "outputs": [
        {
          "output_type": "stream",
          "name": "stdout",
          "text": [
            "Please input your age: \n",
            "25\n",
            "You are qualified to vote!\n"
          ]
        }
      ]
    },
    {
      "cell_type": "markdown",
      "source": [
        "Example 2"
      ],
      "metadata": {
        "id": "hSL50g7qOtLX"
      }
    },
    {
      "cell_type": "code",
      "source": [
        "#Verifying integers\n",
        "print(\"Please input a number: \")\n",
        "x = float(input())\n",
        "if x <= 0:\n",
        "  if x < 0:\n",
        "    print(\"Number is negative\")\n",
        "  else:\n",
        "    print(\"Number is zero\")\n",
        "else:\n",
        "  print(\"Number is Positive\")"
      ],
      "metadata": {
        "colab": {
          "base_uri": "https://localhost:8080/"
        },
        "id": "SLAADoC3N4iN",
        "outputId": "d20359e6-5bbd-45a9-becf-3640778d7abb"
      },
      "execution_count": 46,
      "outputs": [
        {
          "output_type": "stream",
          "name": "stdout",
          "text": [
            "Please input a number: \n",
            "-.01\n",
            "Number is negative\n"
          ]
        }
      ]
    },
    {
      "cell_type": "markdown",
      "source": [
        "Example 3"
      ],
      "metadata": {
        "id": "kxK8BDr1Qk4f"
      }
    },
    {
      "cell_type": "code",
      "source": [
        "#Grading System\n",
        "print(\"Please input your grade: \")\n",
        "x = float(input())\n",
        "if x < 70 or x > 100:\n",
        "  if x < 70 and x>=65:\n",
        "    print(\"Remedial\")\n",
        "  elif x < 0 or x > 100:\n",
        "    print(\"Error, numbers input are outside accepted range, please restart program.\")\n",
        "  else:\n",
        "    print(\"Failed\")\n",
        "else:\n",
        "  print(\"You've passed!\")\n",
        "  \n"
      ],
      "metadata": {
        "colab": {
          "base_uri": "https://localhost:8080/"
        },
        "id": "O410qTodQmG3",
        "outputId": "2987b9b0-0674-42cc-deb5-a8f8c474cd5b"
      },
      "execution_count": 69,
      "outputs": [
        {
          "output_type": "stream",
          "name": "stdout",
          "text": [
            "Please input your grade: \n",
            "70\n",
            "You've passed!\n"
          ]
        }
      ]
    }
  ]
}