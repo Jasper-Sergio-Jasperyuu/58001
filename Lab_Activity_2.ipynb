{
  "nbformat": 4,
  "nbformat_minor": 0,
  "metadata": {
    "colab": {
      "provenance": [],
      "authorship_tag": "ABX9TyOhe0euYqkTGM7KwcM410zz",
      "include_colab_link": true
    },
    "kernelspec": {
      "name": "python3",
      "display_name": "Python 3"
    },
    "language_info": {
      "name": "python"
    }
  },
  "cells": [
    {
      "cell_type": "markdown",
      "metadata": {
        "id": "view-in-github",
        "colab_type": "text"
      },
      "source": [
        "<a href=\"https://colab.research.google.com/github/Jasper-Sergio-Jasperyuu/OOP-58001/blob/main/Lab_Activity_2.ipynb\" target=\"_parent\"><img src=\"https://colab.research.google.com/assets/colab-badge.svg\" alt=\"Open In Colab\"/></a>"
      ]
    },
    {
      "cell_type": "code",
      "execution_count": 1,
      "metadata": {
        "colab": {
          "base_uri": "https://localhost:8080/"
        },
        "id": "xw9cfqVosdGZ",
        "outputId": "f887f828-5cbb-4bca-c274-5cf38e89a61d"
      },
      "outputs": [
        {
          "output_type": "stream",
          "name": "stdout",
          "text": [
            "Please input the radius of the circle:3\n",
            "The area of the circle is: 28.2743\n",
            "The perimeter of the circle is: 18.8496\n"
          ]
        }
      ],
      "source": [
        "import math #imports math function for pi\n",
        "pi = math.pi\n",
        "\n",
        "\n",
        "class Circle:\n",
        "    def __init__(self, radius):\n",
        "        self.radius = radius\n",
        "    def Perimeter(self):\n",
        "        return round(self.radius*pi*2, 4) #calculates Perimeter and rounds it to 4 decimal places\n",
        "    def Area(self):\n",
        "        return round(pi*self.radius**2, 4)#calculates Area and rounds it to 4 decimal places\n",
        "    def Display(self):\n",
        "        print ('The area of the circle is:', self.Area())\n",
        "        print('The perimeter of the circle is:', self.Perimeter())\n",
        "c = float(input('Please input the radius of the circle:'))\n",
        "circle1 = Circle(c)\n",
        "circle1.Display()"
      ]
    }
  ]
}