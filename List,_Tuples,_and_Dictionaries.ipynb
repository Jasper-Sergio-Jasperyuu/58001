{
  "nbformat": 4,
  "nbformat_minor": 0,
  "metadata": {
    "colab": {
      "provenance": [],
      "authorship_tag": "ABX9TyP9OsZgJklhItu+FkQHH4q8",
      "include_colab_link": true
    },
    "kernelspec": {
      "name": "python3",
      "display_name": "Python 3"
    },
    "language_info": {
      "name": "python"
    }
  },
  "cells": [
    {
      "cell_type": "markdown",
      "metadata": {
        "id": "view-in-github",
        "colab_type": "text"
      },
      "source": [
        "<a href=\"https://colab.research.google.com/github/Jasper-Sergio-Jasperyuu/OOP-58001/blob/main/List%2C_Tuples%2C_and_Dictionaries.ipynb\" target=\"_parent\"><img src=\"https://colab.research.google.com/assets/colab-badge.svg\" alt=\"Open In Colab\"/></a>"
      ]
    },
    {
      "cell_type": "markdown",
      "source": [
        "Functions"
      ],
      "metadata": {
        "id": "gGsFQcrTeMuo"
      }
    },
    {
      "cell_type": "code",
      "source": [
        "class Shape:\n",
        "  def __init__(self, length, width):\n",
        "    self.length = length\n",
        "    self.width = width\n",
        "  def area(self):\n",
        "    return self.length*self.width\n",
        "rectangle = Shape(15, 5)\n",
        "rectangle.area()"
      ],
      "metadata": {
        "colab": {
          "base_uri": "https://localhost:8080/"
        },
        "id": "vGvIRPzGeHLY",
        "outputId": "61d517c8-255b-454a-8e26-5fa929188633"
      },
      "execution_count": 5,
      "outputs": [
        {
          "output_type": "execute_result",
          "data": {
            "text/plain": [
              "75"
            ]
          },
          "metadata": {},
          "execution_count": 5
        }
      ]
    },
    {
      "cell_type": "code",
      "source": [
        "array = [\"Apple\", \"Banana\", \"Strawberry\"]\n",
        "array\n",
        "array.insert(0, \"Cherry\")\n",
        "array"
      ],
      "metadata": {
        "colab": {
          "base_uri": "https://localhost:8080/"
        },
        "id": "w6xSvPOMeCHp",
        "outputId": "1614721a-7bf4-40b8-aea4-debd9497bdfe"
      },
      "execution_count": 3,
      "outputs": [
        {
          "output_type": "execute_result",
          "data": {
            "text/plain": [
              "['Cherry', 'Apple', 'Banana', 'Strawberry']"
            ]
          },
          "metadata": {},
          "execution_count": 3
        }
      ]
    },
    {
      "cell_type": "code",
      "execution_count": 6,
      "metadata": {
        "colab": {
          "base_uri": "https://localhost:8080/"
        },
        "id": "ylcyMbSMdy-0",
        "outputId": "4ee9ae9a-4676-494e-b2ee-5d47ad4618eb"
      },
      "outputs": [
        {
          "output_type": "stream",
          "name": "stdout",
          "text": [
            "Please enter your name: \n",
            "Jasper Sergio\n",
            "Please type your age: \n",
            "19\n",
            "Your Name is:  Jasper Sergio \n",
            "Your age is:  19\n"
          ]
        }
      ],
      "source": [
        "#Create your own function that will show full name and age\n",
        "class Person:\n",
        "  def __init__ (self, name, age):\n",
        "    self.name = name\n",
        "    self.age = age\n",
        "  def me(self):\n",
        "    return self.name, self.age\n",
        "print(\"Please enter your name: \")\n",
        "name = str(input())\n",
        "print(\"Please type your age: \")\n",
        "age = str(input())\n",
        "print(\"Your Name is: \",name, \"\\nYour age is: \",age)"
      ]
    },
    {
      "cell_type": "markdown",
      "source": [
        "List"
      ],
      "metadata": {
        "id": "1ZsHCsHNeP0A"
      }
    },
    {
      "cell_type": "code",
      "source": [
        "pi = 3.14159\n",
        "varList = ['xyz', 3, 'zyx', 4]\n",
        "varList.append('yxz')\n",
        "print(varList)\n",
        "varList.remove(3)\n",
        "print(varList)\n",
        "varList.insert(3,'123')\n",
        "print(varList)"
      ],
      "metadata": {
        "colab": {
          "base_uri": "https://localhost:8080/"
        },
        "id": "bEDKP4RQeQtI",
        "outputId": "c7931b0c-19f5-428c-9ea5-9c260e639057"
      },
      "execution_count": 7,
      "outputs": [
        {
          "output_type": "stream",
          "name": "stdout",
          "text": [
            "['xyz', 3, 'zyx', 4, 'yxz']\n",
            "['xyz', 'zyx', 4, 'yxz']\n",
            "['xyz', 'zyx', 4, '123', 'yxz']\n"
          ]
        }
      ]
    },
    {
      "cell_type": "markdown",
      "source": [
        "Dictionaries"
      ],
      "metadata": {
        "id": "7G55faZOeTaX"
      }
    },
    {
      "cell_type": "code",
      "source": [
        "students = {\n",
        "    1 :\"ana\",\n",
        "    2 :\"billy\",\n",
        "    3 :\"maria\",\n",
        "    4 :\"joy\" \n",
        "}\n",
        "print(students)"
      ],
      "metadata": {
        "colab": {
          "base_uri": "https://localhost:8080/"
        },
        "id": "mQI_m8EUeV7w",
        "outputId": "d31ef002-64a7-4e28-cf79-9cc95f65546d"
      },
      "execution_count": 8,
      "outputs": [
        {
          "output_type": "stream",
          "name": "stdout",
          "text": [
            "{1: 'ana', 2: 'billy', 3: 'maria', 4: 'joy'}\n"
          ]
        }
      ]
    }
  ]
}