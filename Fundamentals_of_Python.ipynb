{
  "nbformat": 4,
  "nbformat_minor": 0,
  "metadata": {
    "colab": {
      "provenance": [],
      "authorship_tag": "ABX9TyNpvCAV1MRJxt3CCYdxnQde",
      "include_colab_link": true
    },
    "kernelspec": {
      "name": "python3",
      "display_name": "Python 3"
    },
    "language_info": {
      "name": "python"
    }
  },
  "cells": [
    {
      "cell_type": "markdown",
      "metadata": {
        "id": "view-in-github",
        "colab_type": "text"
      },
      "source": [
        "<a href=\"https://colab.research.google.com/github/Jasper-Sergio-Jasperyuu/OOP-58001/blob/main/Fundamentals_of_Python.ipynb\" target=\"_parent\"><img src=\"https://colab.research.google.com/assets/colab-badge.svg\" alt=\"Open In Colab\"/></a>"
      ]
    },
    {
      "cell_type": "markdown",
      "source": [
        "indentation"
      ],
      "metadata": {
        "id": "svBwMnGhRWtY"
      }
    },
    {
      "cell_type": "code",
      "execution_count": null,
      "metadata": {
        "colab": {
          "base_uri": "https://localhost:8080/"
        },
        "id": "NPL6tRSVPkuB",
        "outputId": "07b1881f-e751-4d45-cb00-fab1ab2a896e"
      },
      "outputs": [
        {
          "output_type": "stream",
          "name": "stdout",
          "text": [
            "5 is greater than 2\n"
          ]
        }
      ],
      "source": [
        "if 5>2:\n",
        "  print(\"5 is greater than 2\")"
      ]
    },
    {
      "cell_type": "code",
      "source": [],
      "metadata": {
        "id": "3iBNKeF1SURz"
      },
      "execution_count": null,
      "outputs": []
    },
    {
      "cell_type": "markdown",
      "source": [
        "Python Comment"
      ],
      "metadata": {
        "id": "WnIUigWiSVVM"
      }
    },
    {
      "cell_type": "code",
      "source": [
        "#This is a comment\n",
        "print(\"Hello, World!\")"
      ],
      "metadata": {
        "colab": {
          "base_uri": "https://localhost:8080/"
        },
        "id": "BjkgixcoSX0k",
        "outputId": "acb0c648-cca3-4515-a7e6-855e47f9aeed"
      },
      "execution_count": null,
      "outputs": [
        {
          "output_type": "stream",
          "name": "stdout",
          "text": [
            "Hello, World!\n"
          ]
        }
      ]
    },
    {
      "cell_type": "markdown",
      "source": [
        "Python Variables"
      ],
      "metadata": {
        "id": "UaragFwTStVU"
      }
    },
    {
      "cell_type": "code",
      "source": [
        "#Single Variable with single value\n",
        "x = 1\n",
        "#Single Variable with multiple values\n",
        "array = [1, 2, 3]\n",
        "print (array)\n",
        "\n",
        "#Multiple variables with single value\n",
        "a = b = c = \"Jasper\"\n",
        "print(a)\n",
        "print(b)\n",
        "print(c)"
      ],
      "metadata": {
        "colab": {
          "base_uri": "https://localhost:8080/"
        },
        "id": "yvTG3fYoTQk8",
        "outputId": "de556acd-f17c-4b0d-9936-73763888cc28"
      },
      "execution_count": null,
      "outputs": [
        {
          "output_type": "stream",
          "name": "stdout",
          "text": [
            "[1, 2, 3]\n",
            "Jasper\n",
            "Jasper\n",
            "Jasper\n"
          ]
        }
      ]
    },
    {
      "cell_type": "markdown",
      "source": [
        "Casting"
      ],
      "metadata": {
        "id": "HVZUKlzlU13e"
      }
    },
    {
      "cell_type": "code",
      "source": [
        "n = int(4)\n",
        "print(n)"
      ],
      "metadata": {
        "colab": {
          "base_uri": "https://localhost:8080/"
        },
        "id": "rmu6lB9wU32A",
        "outputId": "a8f1c995-f3f7-42e2-ca54-4dfe51741f07"
      },
      "execution_count": 1,
      "outputs": [
        {
          "output_type": "stream",
          "name": "stdout",
          "text": [
            "4\n"
          ]
        }
      ]
    },
    {
      "cell_type": "markdown",
      "source": [
        "Type() function"
      ],
      "metadata": {
        "id": "G3VC9NZFVD83"
      }
    },
    {
      "cell_type": "code",
      "source": [
        "c = \"Sally\"\n",
        "d = 5.6\n",
        "print (type(c))\n",
        "print (type(d))"
      ],
      "metadata": {
        "colab": {
          "base_uri": "https://localhost:8080/"
        },
        "id": "GQ8LEwN_VGXX",
        "outputId": "d34596b5-3c60-4123-f832-0bdaf09526dc"
      },
      "execution_count": 2,
      "outputs": [
        {
          "output_type": "stream",
          "name": "stdout",
          "text": [
            "<class 'str'>\n",
            "<class 'float'>\n"
          ]
        }
      ]
    },
    {
      "cell_type": "markdown",
      "source": [
        "Double quotes or Single quotes"
      ],
      "metadata": {
        "id": "mr3XCNmlfcfq"
      }
    },
    {
      "cell_type": "code",
      "source": [
        "#String variables can be declared either by single or double quotes.\n",
        "x = \"jasper\"\n",
        "x = 'Jasper'\n",
        "print(x)\n",
        "print (type(x))\n"
      ],
      "metadata": {
        "id": "hNzqjh_qf9TS",
        "outputId": "71db9310-d572-4dc6-913f-94c2d7b671ea",
        "colab": {
          "base_uri": "https://localhost:8080/"
        }
      },
      "execution_count": 4,
      "outputs": [
        {
          "output_type": "stream",
          "name": "stdout",
          "text": [
            "Jasper\n",
            "<class 'str'>\n"
          ]
        }
      ]
    },
    {
      "cell_type": "markdown",
      "source": [
        "Case Sensitivity"
      ],
      "metadata": {
        "id": "rwo4J1oHgSlF"
      }
    },
    {
      "cell_type": "code",
      "source": [
        "x = \"Jasper\"\n",
        "X = \"Age = 19\"\n",
        "#X will not overwrite x\n",
        "print (x)\n",
        "print (X)"
      ],
      "metadata": {
        "id": "27jWbt4WgWHt",
        "outputId": "f162b3b7-ffa2-4fe3-99c1-37bfd51f368c",
        "colab": {
          "base_uri": "https://localhost:8080/"
        }
      },
      "execution_count": 5,
      "outputs": [
        {
          "output_type": "stream",
          "name": "stdout",
          "text": [
            "Jasper\n",
            "Age = 19\n"
          ]
        }
      ]
    },
    {
      "cell_type": "markdown",
      "source": [
        "Multiple Variable Assignment"
      ],
      "metadata": {
        "id": "SkiFHjmFgmN7"
      }
    },
    {
      "cell_type": "code",
      "source": [
        "x, y, z = \"one\", \"two\", \"three\"\n",
        "print (x)\n",
        "print (y)\n",
        "print (z)"
      ],
      "metadata": {
        "id": "_ivm2vE6gs-E",
        "outputId": "cda4ed0b-34dd-4551-91d2-1f9a8eefe060",
        "colab": {
          "base_uri": "https://localhost:8080/"
        }
      },
      "execution_count": 6,
      "outputs": [
        {
          "output_type": "stream",
          "name": "stdout",
          "text": [
            "one\n",
            "two\n",
            "three\n"
          ]
        }
      ]
    },
    {
      "cell_type": "markdown",
      "source": [
        "Output Variables"
      ],
      "metadata": {
        "id": "whoTezygg9OB"
      }
    },
    {
      "cell_type": "code",
      "source": [
        "x = \" enjoying\"\n",
        "#+ is used together with print to output both text and variables\n",
        "print (\"Python is\" + x)\n",
        "#Here is another example\n",
        "y = \"Python is\"\n",
        "print (y + x)\n",
        "#Another example\n",
        "z = y+x\n",
        "print (z)"
      ],
      "metadata": {
        "id": "Atm4KeGfhR8i",
        "outputId": "0e634df7-1ba6-4d4e-e862-492a987da8c5",
        "colab": {
          "base_uri": "https://localhost:8080/"
        }
      },
      "execution_count": 11,
      "outputs": [
        {
          "output_type": "stream",
          "name": "stdout",
          "text": [
            "Python is enjoying\n",
            "Python is enjoying\n",
            "Python is enjoying\n"
          ]
        }
      ]
    },
    {
      "cell_type": "markdown",
      "source": [
        "Arithmetic and Assignment operators"
      ],
      "metadata": {
        "id": "Ov5OB7K3hlBu"
      }
    },
    {
      "cell_type": "code",
      "source": [
        "x, y = 2.0, 3.0\n",
        "sum = x + y\n",
        "product = x*y\n",
        "diff = x - y\n",
        "quo = x/y\n",
        "print (sum)\n",
        "print (product)\n",
        "print (diff)\n",
        "print (quo)"
      ],
      "metadata": {
        "id": "Wjwb8EBgik5s",
        "outputId": "e416740c-d789-497c-a430-e8896f9870d7",
        "colab": {
          "base_uri": "https://localhost:8080/"
        }
      },
      "execution_count": 19,
      "outputs": [
        {
          "output_type": "stream",
          "name": "stdout",
          "text": [
            "5.0\n",
            "6.0\n",
            "-1.0\n",
            "0.6666666666666666\n"
          ]
        }
      ]
    },
    {
      "cell_type": "markdown",
      "source": [
        "Comparison and Logical Operators"
      ],
      "metadata": {
        "id": "Du54EsL3kCzf"
      }
    },
    {
      "cell_type": "code",
      "source": [
        "x, y = 1, 2\n",
        "if x != y:\n",
        "  print(\"True\")\n",
        "  if x == y:\n",
        "    print(\"True\")\n",
        "  else:\n",
        "    print(\"False\")\n",
        "#I took note of the indentations said earlier :D\n",
        "x != y and x<y\n"
      ],
      "metadata": {
        "id": "5J0uhYU-kdj5",
        "outputId": "a5cdc6f2-f2c2-4d95-8e9b-7c097dd4323d",
        "colab": {
          "base_uri": "https://localhost:8080/"
        }
      },
      "execution_count": 26,
      "outputs": [
        {
          "output_type": "stream",
          "name": "stdout",
          "text": [
            "True\n",
            "False\n"
          ]
        },
        {
          "output_type": "execute_result",
          "data": {
            "text/plain": [
              "True"
            ]
          },
          "metadata": {},
          "execution_count": 26
        }
      ]
    },
    {
      "cell_type": "markdown",
      "source": [
        "Identity Operators"
      ],
      "metadata": {
        "id": "5ISmlNBwlxi7"
      }
    },
    {
      "cell_type": "code",
      "source": [
        "x, y = 1, 1\n",
        "\n",
        "x is 1"
      ],
      "metadata": {
        "id": "6rvksKkJmTJ9",
        "outputId": "c41b9551-dd43-4f1d-e4ce-6dbc419c26c5",
        "colab": {
          "base_uri": "https://localhost:8080/"
        }
      },
      "execution_count": 27,
      "outputs": [
        {
          "output_type": "stream",
          "name": "stderr",
          "text": [
            "<>:3: SyntaxWarning: \"is\" with a literal. Did you mean \"==\"?\n",
            "<>:3: SyntaxWarning: \"is\" with a literal. Did you mean \"==\"?\n",
            "<ipython-input-27-767ad8b78791>:3: SyntaxWarning: \"is\" with a literal. Did you mean \"==\"?\n",
            "  x is 1\n"
          ]
        },
        {
          "output_type": "execute_result",
          "data": {
            "text/plain": [
              "True"
            ]
          },
          "metadata": {},
          "execution_count": 27
        }
      ]
    },
    {
      "cell_type": "markdown",
      "source": [
        "Bitwise Operators\n"
      ],
      "metadata": {
        "id": "EOslp62dmbwo"
      }
    },
    {
      "cell_type": "code",
      "source": [
        "\n",
        "x, y = 1, 2\n",
        "\n",
        "x != y & x < y\n"
      ],
      "metadata": {
        "id": "TarvUoB7mtCu",
        "outputId": "202870b8-f070-42e2-f255-2d0f33e695f8",
        "colab": {
          "base_uri": "https://localhost:8080/"
        }
      },
      "execution_count": 34,
      "outputs": [
        {
          "output_type": "execute_result",
          "data": {
            "text/plain": [
              "True"
            ]
          },
          "metadata": {},
          "execution_count": 34
        }
      ]
    }
  ]
}