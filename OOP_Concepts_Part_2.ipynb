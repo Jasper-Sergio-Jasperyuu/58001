{
  "nbformat": 4,
  "nbformat_minor": 0,
  "metadata": {
    "colab": {
      "provenance": [],
      "authorship_tag": "ABX9TyNkfj/JPjXhNkhqENP2Pd+E",
      "include_colab_link": true
    },
    "kernelspec": {
      "name": "python3",
      "display_name": "Python 3"
    },
    "language_info": {
      "name": "python"
    }
  },
  "cells": [
    {
      "cell_type": "markdown",
      "metadata": {
        "id": "view-in-github",
        "colab_type": "text"
      },
      "source": [
        "<a href=\"https://colab.research.google.com/github/Jasper-Sergio-Jasperyuu/OOP-58001/blob/main/OOP_Concepts_Part_2.ipynb\" target=\"_parent\"><img src=\"https://colab.research.google.com/assets/colab-badge.svg\" alt=\"Open In Colab\"/></a>"
      ]
    },
    {
      "cell_type": "markdown",
      "source": [
        "Class with multiple objects"
      ],
      "metadata": {
        "id": "CG-9B2qIWtW8"
      }
    },
    {
      "cell_type": "code",
      "execution_count": 3,
      "metadata": {
        "colab": {
          "base_uri": "https://localhost:8080/"
        },
        "id": "M9JD2wCuScoO",
        "outputId": "df51ea15-6b59-4bec-8ba8-ca9f67890a0e"
      },
      "outputs": [
        {
          "output_type": "stream",
          "name": "stdout",
          "text": [
            "Griffon Vulture flies above clouds\n",
            "Common Crane flies above clouds\n",
            "Emu is the national bird of the Philippines\n"
          ]
        }
      ],
      "source": [
        "class Birds:\n",
        "  def __init__(self, bird_name):\n",
        "    self.bird_name = bird_name\n",
        "  def  flying_birds (self):\n",
        "    print(f\"{self.bird_name} flies above clouds\")\n",
        "  def non_flying_birds(self):\n",
        "    print(f\"{self.bird_name} is the national bird of the Philippines\")\n",
        "vulture = Birds(\"Griffon Vulture\")\n",
        "crane = Birds(\"Common Crane\")\n",
        "emu = Birds('Emu')\n",
        "\n",
        "vulture.flying_birds()\n",
        "crane.flying_birds()\n",
        "emu.non_flying_birds()\n"
      ]
    },
    {
      "cell_type": "markdown",
      "source": [
        "Encapsulation"
      ],
      "metadata": {
        "id": "ytuuw1VIZH-7"
      }
    },
    {
      "cell_type": "code",
      "source": [
        "class foo:\n",
        "  def __init__(self, a, b):\n",
        "    self.__a = a\n",
        "    self.__b = b\n",
        "  def add(self):\n",
        "    return self.__a + self.__b\n",
        "foo_object = foo(3, 4)\n",
        "foo_object.add()\n",
        "foo_object.a = 5\n",
        "foo_object.add()"
      ],
      "metadata": {
        "colab": {
          "base_uri": "https://localhost:8080/"
        },
        "id": "iqOegMFoZaax",
        "outputId": "4b6d1324-05ed-49bb-dba9-3229b52ddca4"
      },
      "execution_count": 7,
      "outputs": [
        {
          "output_type": "execute_result",
          "data": {
            "text/plain": [
              "7"
            ]
          },
          "metadata": {},
          "execution_count": 7
        }
      ]
    },
    {
      "cell_type": "code",
      "source": [
        "class Counter:\n",
        "  def __init__(self):\n",
        "    self.__current = 0\n",
        "\n",
        "  def increment (self):\n",
        "    self.__current += 1\n",
        "  \n",
        "  def value(self):\n",
        "    return self.__current\n",
        "  \n",
        "  def reset(self):\n",
        "    self.__current = 0\n",
        "\n",
        "count1 = Counter()\n",
        "count1.current = 3\n",
        "count1.increment()\n",
        "count1.value()\n",
        "count1.reset()\n",
        "count1.increment()\n",
        "count1.current = 3\n",
        "count1.value()"
      ],
      "metadata": {
        "colab": {
          "base_uri": "https://localhost:8080/"
        },
        "id": "Mv0CMudib8uq",
        "outputId": "82326ffe-f07d-4577-c034-7151d58c7848"
      },
      "execution_count": 44,
      "outputs": [
        {
          "output_type": "execute_result",
          "data": {
            "text/plain": [
              "1"
            ]
          },
          "metadata": {},
          "execution_count": 44
        }
      ]
    },
    {
      "cell_type": "markdown",
      "source": [
        "Inheritance"
      ],
      "metadata": {
        "id": "QAlWd27TeimP"
      }
    },
    {
      "cell_type": "code",
      "source": [
        "class Person:\n",
        "  def __init__ (self,name,birthdate):\n",
        "    self.name = name\n",
        "    self.birthdate = birthdate\n",
        "  def display(self):\n",
        "    print (f\"My name is\", self.name)\n",
        "    print (f\"My birthdate is\", self.birthdate)\n",
        "class Student(Person):\n",
        "  pass\n",
        "class Teacher(Person):\n",
        "  pass\n",
        "student = Student(\"Jasper\", \"December 11, 2003\")\n",
        "student.display()\n",
        "teacher = Teacher(\"Ana\", \"Feb 14, 1990\")\n",
        "teacher.display()"
      ],
      "metadata": {
        "colab": {
          "base_uri": "https://localhost:8080/"
        },
        "id": "L_IvdHsjej0v",
        "outputId": "f2157891-ae3d-4b9f-81f5-f8db51fa4723"
      },
      "execution_count": 20,
      "outputs": [
        {
          "output_type": "stream",
          "name": "stdout",
          "text": [
            "My name is Jasper\n",
            "My birthdate is December 11, 2003\n",
            "My name is Ana\n",
            "My birthdate is Feb 14, 1990\n"
          ]
        }
      ]
    },
    {
      "cell_type": "markdown",
      "source": [
        "Shapes"
      ],
      "metadata": {
        "id": "UJdIdhbNgxCT"
      }
    },
    {
      "cell_type": "code",
      "source": [
        "class Shape:\n",
        "  def __init__(self, side, name):\n",
        "    self.__side = side\n",
        "    self.__name = name\n",
        "  def display(self):\n",
        "     print(f\"The sides of the {self.__name} is: {self.__side}\")\n",
        "class Rectangle(Shape):\n",
        "  pass\n",
        "class Circle(Shape):\n",
        "  pass\n",
        "class Octagon(Shape):\n",
        "  pass\n",
        "class Hexagon(Shape):\n",
        "  pass\n",
        "class Trapezoid(Shape):\n",
        "  pass\n",
        "rectangle =Rectangle(4, 'Rectangle')\n",
        "rectangle.name = 'Red'\n",
        "rectangle.side =213123\n",
        "rectangle.display()\n",
        "circle = Circle(0, 'Circle')\n",
        "circle.side = 1\n",
        "circle.name = 'apple'\n",
        "circle.display()\n",
        "octagon = Octagon(8, 'Octagon')\n",
        "octagon.display()\n",
        "hexagon = Hexagon(6, 'Hexagon')\n",
        "hexagon.display()\n",
        "trapezoid = Trapezoid(4, 'Trapezoid')\n",
        "trapezoid.display()"
      ],
      "metadata": {
        "colab": {
          "base_uri": "https://localhost:8080/"
        },
        "id": "GOzi3UB1gwcL",
        "outputId": "ad577ff9-ecd4-4219-f509-a4a078d70995"
      },
      "execution_count": 43,
      "outputs": [
        {
          "output_type": "stream",
          "name": "stdout",
          "text": [
            "The sides of the Rectangle is: 4\n",
            "The sides of the Circle is: 0\n",
            "The sides of the Octagon is: 8\n",
            "The sides of the Hexagon is: 6\n",
            "The sides of the Trapezoid is: 4\n"
          ]
        }
      ]
    },
    {
      "cell_type": "code",
      "source": [],
      "metadata": {
        "id": "sbTJmveVjhCg"
      },
      "execution_count": null,
      "outputs": []
    }
  ]
}