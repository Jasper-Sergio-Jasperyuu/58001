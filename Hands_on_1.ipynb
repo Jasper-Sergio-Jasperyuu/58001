{
  "nbformat": 4,
  "nbformat_minor": 0,
  "metadata": {
    "colab": {
      "provenance": [],
      "authorship_tag": "ABX9TyOwgi2ZJSiGOjdPPolhLnbc",
      "include_colab_link": true
    },
    "kernelspec": {
      "name": "python3",
      "display_name": "Python 3"
    },
    "language_info": {
      "name": "python"
    }
  },
  "cells": [
    {
      "cell_type": "markdown",
      "metadata": {
        "id": "view-in-github",
        "colab_type": "text"
      },
      "source": [
        "<a href=\"https://colab.research.google.com/github/Jasper-Sergio-Jasperyuu/OOP-58001/blob/main/Hands_on_1.ipynb\" target=\"_parent\"><img src=\"https://colab.research.google.com/assets/colab-badge.svg\" alt=\"Open In Colab\"/></a>"
      ]
    },
    {
      "cell_type": "code",
      "execution_count": 16,
      "metadata": {
        "colab": {
          "base_uri": "https://localhost:8080/"
        },
        "id": "xsIpn5UVaClu",
        "outputId": "cd1855a0-9b13-4890-d5a6-890f4d748f29"
      },
      "outputs": [
        {
          "output_type": "stream",
          "name": "stdout",
          "text": [
            "The Grade of Student 1 is 98.0\n",
            "The Grade of Student 2 is 94.0\n",
            "The Grade of Student 3 is 88.33\n"
          ]
        }
      ],
      "source": [
        "class Person:\n",
        "  def  __init__(self, name, pre, mid, fin):\n",
        "    self.__name = name\n",
        "    self.__pre = pre\n",
        "    self.__mid = mid\n",
        "    self.__fin = fin\n",
        "  def Average(self):\n",
        "    self.__total =  self.__pre + self.__mid + self.__fin\n",
        "    return round(self.__total/3, 2)\n",
        "  def  Grade(self):\n",
        "    print(f\"The Grade of {self.__name} is {self.Average()}\")\n",
        "\n",
        "std1 = Person(\"Student 1\", 97, 98, 99)\n",
        "std1.Grade()\n",
        "std2 = Person(\"Student 2\", 95, 89, 98 )\n",
        "std2.Grade()\n",
        "std3 = Person(\"Student 3\", 86, 89, 90)\n",
        "std3.Grade()"
      ]
    }
  ]
}